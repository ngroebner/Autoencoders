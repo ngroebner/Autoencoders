{
 "cells": [
  {
   "cell_type": "markdown",
   "metadata": {},
   "source": [
    "# Eaxmple training CAE and VAE on MNIST\n"
   ]
  },
  {
   "cell_type": "code",
   "execution_count": 1,
   "metadata": {},
   "outputs": [],
   "source": [
    "%matplotlib inline\n",
    "import matplotlib.pyplot as plt\n",
    "import numpy as np\n",
    "\n",
    "import torch\n",
    "\n",
    "from torchvision import datasets, transforms\n",
    "from torch.utils.data import DataLoader\n",
    "\n",
    "from Autoencoders.encoders import Encoder2DConv, VAEEncoder2DConv\n",
    "from Autoencoders.decoders import Decoder2DConv\n",
    "from Autoencoders.autoencoders import Autoencoder, VAE\n",
    "from Autoencoders.losses import vae_loss\n",
    "\n",
    "from sklearn.manifold import TSNE"
   ]
  },
  {
   "cell_type": "markdown",
   "metadata": {},
   "source": [
    "## Load FashionMNIST data and create a dataloader"
   ]
  },
  {
   "cell_type": "code",
   "execution_count": 2,
   "metadata": {},
   "outputs": [
    {
     "data": {
      "text/plain": [
       "\"MNIST = datasets.MNIST('./sampledata/MNIST', download=True, train=True, transform=transforms.ToTensor())\\ndataloader = DataLoader(MNIST, batch_size=32, num_workers=2)\""
      ]
     },
     "execution_count": 2,
     "metadata": {},
     "output_type": "execute_result"
    }
   ],
   "source": [
    "\"\"\"MNIST = datasets.MNIST('./sampledata/MNIST', download=True, train=True, transform=transforms.ToTensor())\n",
    "dataloader = DataLoader(MNIST, batch_size=32, num_workers=2)\"\"\""
   ]
  },
  {
   "cell_type": "code",
   "execution_count": 3,
   "metadata": {},
   "outputs": [],
   "source": [
    "traindata = datasets.FashionMNIST('./sampledata/FashionMNIST', download=True, train=True, transform=transforms.ToTensor())\n",
    "trainloader = DataLoader(traindata, batch_size=128, num_workers=8)\n",
    "\n",
    "testdata = datasets.FashionMNIST('./sampledata/FashionMNIST', download=True, train=False, transform=transforms.ToTensor())\n",
    "testloader = DataLoader(testdata, batch_size=128, num_workers=8)"
   ]
  },
  {
   "cell_type": "code",
   "execution_count": 4,
   "metadata": {},
   "outputs": [
    {
     "name": "stdout",
     "output_type": "stream",
     "text": [
      "torch.Size([128, 1, 28, 28])\n"
     ]
    }
   ],
   "source": [
    "for data, _ in trainloader:\n",
    "    print(data.size())\n",
    "    break"
   ]
  },
  {
   "cell_type": "markdown",
   "metadata": {},
   "source": [
    "## Parameters"
   ]
  },
  {
   "cell_type": "code",
   "execution_count": 5,
   "metadata": {},
   "outputs": [],
   "source": [
    "inputdims = (28,28)\n",
    "latentdims = 32\n",
    "nlayers = 2\n",
    "\n",
    "use_cuda = True\n",
    "\n",
    "epochs = 50"
   ]
  },
  {
   "cell_type": "markdown",
   "metadata": {},
   "source": [
    "## Create the Convolutional Autoencoder (CAE)\n"
   ]
  },
  {
   "cell_type": "code",
   "execution_count": 12,
   "metadata": {},
   "outputs": [],
   "source": [
    "cae_encoder = Encoder2DConv(inputdims, latentdims, nlayers=nlayers, use_batchnorm=True)\n",
    "cae_decoder = Decoder2DConv(inputdims, latentdims, nlayers=nlayers, use_batchnorm=True)\n",
    "cae = Autoencoder(cae_encoder, cae_decoder)\n",
    "if use_cuda == True:\n",
    "    cae = cae.cuda()\n",
    "cae_loss = torch.nn.functional.mse_loss\n",
    "cae_optimizer = torch.optim.Adam(cae.parameters())\n"
   ]
  },
  {
   "cell_type": "markdown",
   "metadata": {},
   "source": [
    "## Train the CAE"
   ]
  },
  {
   "cell_type": "code",
   "execution_count": 13,
   "metadata": {
    "scrolled": true
   },
   "outputs": [
    {
     "name": "stdout",
     "output_type": "stream",
     "text": [
      "Train Epoch: 0 [58880/60000 (98%)]\tLoss: 8.7266106\n",
      "====> Epoch: 0 Average loss: 18.3903\n",
      "Train Epoch: 1 [58880/60000 (98%)]\tLoss: 7.418937\n",
      "====> Epoch: 1 Average loss: 8.0939\n",
      "Train Epoch: 2 [58880/60000 (98%)]\tLoss: 6.879416\n",
      "====> Epoch: 2 Average loss: 7.2424\n",
      "Train Epoch: 3 [58880/60000 (98%)]\tLoss: 6.541003\n",
      "====> Epoch: 3 Average loss: 6.7781\n",
      "Train Epoch: 4 [58880/60000 (98%)]\tLoss: 6.244746\n",
      "====> Epoch: 4 Average loss: 6.4623\n",
      "Train Epoch: 5 [58880/60000 (98%)]\tLoss: 6.017366\n",
      "====> Epoch: 5 Average loss: 6.2265\n",
      "Train Epoch: 6 [58880/60000 (98%)]\tLoss: 5.903792\n",
      "====> Epoch: 6 Average loss: 6.0480\n",
      "Train Epoch: 7 [58880/60000 (98%)]\tLoss: 5.699030\n",
      "====> Epoch: 7 Average loss: 5.8907\n",
      "Train Epoch: 8 [58880/60000 (98%)]\tLoss: 5.577741\n",
      "====> Epoch: 8 Average loss: 5.7453\n",
      "Train Epoch: 9 [58880/60000 (98%)]\tLoss: 5.485910\n",
      "====> Epoch: 9 Average loss: 5.6253\n",
      "Train Epoch: 10 [58880/60000 (98%)]\tLoss: 5.369335\n",
      "====> Epoch: 10 Average loss: 5.5423\n",
      "Train Epoch: 11 [58880/60000 (98%)]\tLoss: 5.291510\n",
      "====> Epoch: 11 Average loss: 5.5024\n",
      "Train Epoch: 12 [58880/60000 (98%)]\tLoss: 5.192524\n",
      "====> Epoch: 12 Average loss: 5.4111\n",
      "Train Epoch: 13 [58880/60000 (98%)]\tLoss: 5.121434\n",
      "====> Epoch: 13 Average loss: 5.3048\n",
      "Train Epoch: 14 [58880/60000 (98%)]\tLoss: 5.063950\n",
      "====> Epoch: 14 Average loss: 5.2233\n",
      "Train Epoch: 15 [58880/60000 (98%)]\tLoss: 5.018859\n",
      "====> Epoch: 15 Average loss: 5.1591\n",
      "Train Epoch: 16 [58880/60000 (98%)]\tLoss: 5.007579\n",
      "====> Epoch: 16 Average loss: 5.1244\n",
      "Train Epoch: 17 [58880/60000 (98%)]\tLoss: 4.980718\n",
      "====> Epoch: 17 Average loss: 5.1460\n",
      "Train Epoch: 18 [58880/60000 (98%)]\tLoss: 4.926797\n",
      "====> Epoch: 18 Average loss: 5.1091\n",
      "Train Epoch: 19 [58880/60000 (98%)]\tLoss: 4.943351\n",
      "====> Epoch: 19 Average loss: 5.0945\n",
      "Train Epoch: 20 [58880/60000 (98%)]\tLoss: 5.132162\n",
      "====> Epoch: 20 Average loss: 5.0604\n",
      "Train Epoch: 21 [58880/60000 (98%)]\tLoss: 4.920847\n",
      "====> Epoch: 21 Average loss: 4.9744\n",
      "Train Epoch: 22 [58880/60000 (98%)]\tLoss: 4.816326\n",
      "====> Epoch: 22 Average loss: 4.8834\n",
      "Train Epoch: 23 [58880/60000 (98%)]\tLoss: 4.750895\n",
      "====> Epoch: 23 Average loss: 4.8095\n",
      "Train Epoch: 24 [58880/60000 (98%)]\tLoss: 4.715585\n",
      "====> Epoch: 24 Average loss: 4.7579\n",
      "Train Epoch: 25 [58880/60000 (98%)]\tLoss: 4.686048\n",
      "====> Epoch: 25 Average loss: 4.7217\n",
      "Train Epoch: 26 [58880/60000 (98%)]\tLoss: 4.655130\n",
      "====> Epoch: 26 Average loss: 4.6939\n",
      "Train Epoch: 27 [58880/60000 (98%)]\tLoss: 4.642776\n",
      "====> Epoch: 27 Average loss: 4.6690\n",
      "Train Epoch: 28 [58880/60000 (98%)]\tLoss: 4.619438\n",
      "====> Epoch: 28 Average loss: 4.6497\n",
      "Train Epoch: 29 [58880/60000 (98%)]\tLoss: 4.620880\n",
      "====> Epoch: 29 Average loss: 4.6446\n",
      "Train Epoch: 30 [58880/60000 (98%)]\tLoss: 4.661330\n",
      "====> Epoch: 30 Average loss: 4.6756\n",
      "Train Epoch: 31 [58880/60000 (98%)]\tLoss: 4.653215\n",
      "====> Epoch: 31 Average loss: 4.6557\n",
      "Train Epoch: 32 [58880/60000 (98%)]\tLoss: 4.612679\n",
      "====> Epoch: 32 Average loss: 4.6557\n",
      "Train Epoch: 33 [58880/60000 (98%)]\tLoss: 4.791965\n",
      "====> Epoch: 33 Average loss: 4.7103\n",
      "Train Epoch: 34 [58880/60000 (98%)]\tLoss: 4.646204\n",
      "====> Epoch: 34 Average loss: 4.7015\n",
      "Train Epoch: 35 [58880/60000 (98%)]\tLoss: 4.594107\n",
      "====> Epoch: 35 Average loss: 4.6558\n",
      "Train Epoch: 36 [58880/60000 (98%)]\tLoss: 4.550117\n",
      "====> Epoch: 36 Average loss: 4.6055\n",
      "Train Epoch: 37 [58880/60000 (98%)]\tLoss: 4.526605\n",
      "====> Epoch: 37 Average loss: 4.5589\n",
      "Train Epoch: 38 [58880/60000 (98%)]\tLoss: 4.496695\n",
      "====> Epoch: 38 Average loss: 4.5092\n",
      "Train Epoch: 39 [58880/60000 (98%)]\tLoss: 4.460938\n",
      "====> Epoch: 39 Average loss: 4.4610\n",
      "Train Epoch: 40 [58880/60000 (98%)]\tLoss: 4.440437\n",
      "====> Epoch: 40 Average loss: 4.4225\n",
      "Train Epoch: 41 [58880/60000 (98%)]\tLoss: 4.427986\n",
      "====> Epoch: 41 Average loss: 4.3978\n",
      "Train Epoch: 42 [58880/60000 (98%)]\tLoss: 4.415256\n",
      "====> Epoch: 42 Average loss: 4.3804\n",
      "Train Epoch: 43 [58880/60000 (98%)]\tLoss: 4.398434\n",
      "====> Epoch: 43 Average loss: 4.3661\n",
      "Train Epoch: 44 [58880/60000 (98%)]\tLoss: 4.382750\n",
      "====> Epoch: 44 Average loss: 4.3511\n",
      "Train Epoch: 45 [58880/60000 (98%)]\tLoss: 4.368991\n",
      "====> Epoch: 45 Average loss: 4.3372\n",
      "Train Epoch: 46 [58880/60000 (98%)]\tLoss: 4.376904\n",
      "====> Epoch: 46 Average loss: 4.3271\n",
      "Train Epoch: 47 [58880/60000 (98%)]\tLoss: 4.364072\n",
      "====> Epoch: 47 Average loss: 4.3238\n",
      "Train Epoch: 48 [58880/60000 (98%)]\tLoss: 4.406722\n",
      "====> Epoch: 48 Average loss: 4.3381\n",
      "Train Epoch: 49 [58880/60000 (98%)]\tLoss: 4.415822\n",
      "====> Epoch: 49 Average loss: 4.3684\n"
     ]
    },
    {
     "data": {
      "text/plain": [
       "[<matplotlib.lines.Line2D at 0x149827281c8>]"
      ]
     },
     "execution_count": 13,
     "metadata": {},
     "output_type": "execute_result"
    },
    {
     "data": {
      "image/png": "[encoded data removed]",
      "text/plain": [
       "<Figure size 432x288 with 1 Axes>"
      ]
     },
     "metadata": {
      "needs_background": "light"
     },
     "output_type": "display_data"
    }
   ],
   "source": [
    "def train_cae(epochs):\n",
    "    cae.train()\n",
    "    train_loss = 0\n",
    "    for batch_idx, (x, _) in enumerate(trainloader):\n",
    "        if use_cuda: \n",
    "            x = x.cuda()\n",
    "        cae_optimizer.zero_grad()\n",
    "        recon_x = cae(x)\n",
    "        loss = cae_loss(recon_x, x, reduction='sum')\n",
    "        loss.backward()\n",
    "        train_loss += loss.item()\n",
    "        cae_optimizer.step()\n",
    "        if batch_idx % 10 == 0:\n",
    "            print('Train Epoch: {} [{}/{} ({:.0f}%)]\\tLoss: {:.6f}'.format(\n",
    "                epoch, batch_idx * len(x), len(trainloader.dataset),\n",
    "                100. * batch_idx / len(trainloader),\n",
    "                loss.item() / len(x)),\n",
    "                end=\"\\r\", flush=True)\n",
    "\n",
    "    print('\\n====> Epoch: {} Average loss: {:.4f}'.format(\n",
    "          epoch, train_loss / len(trainloader.dataset)))\n",
    "    \n",
    "    return train_loss / len(trainloader.dataset)\n",
    "\n",
    "cae_epoch_loss = []\n",
    "\n",
    "for epoch in range(epochs):\n",
    "    loss = train_cae(epoch)\n",
    "    cae_epoch_loss.append(loss)\n",
    "    \n",
    "plt.plot(cae_epoch_loss)"
   ]
  },
  {
   "cell_type": "markdown",
   "metadata": {},
   "source": [
    "## Create the Variational autoencoder (VAE)"
   ]
  },
  {
   "cell_type": "code",
   "execution_count": 14,
   "metadata": {},
   "outputs": [],
   "source": [
    "#VAE\n",
    "vae_encoder = VAEEncoder2DConv(inputdims, latentdims, use_batchnorm=True)\n",
    "vae_decoder = Decoder2DConv(inputdims, latentdims, use_batchnorm=True)\n",
    "vae = VAE(vae_encoder, vae_decoder)\n",
    "if use_cuda == True:\n",
    "    vae = vae.cuda()\n",
    "#vae_loss is imported above\n",
    "vae_optimizer = torch.optim.Adam(vae.parameters())"
   ]
  },
  {
   "cell_type": "markdown",
   "metadata": {},
   "source": [
    "## Train the VAE"
   ]
  },
  {
   "cell_type": "code",
   "execution_count": 16,
   "metadata": {
    "scrolled": true
   },
   "outputs": [
    {
     "name": "stdout",
     "output_type": "stream",
     "text": [
      "Train Epoch: 0 [58880/60000 (98%)]\tLoss: 28.507458\tRecon Loss: 20.073799\tKLD loss: 8.433659\n",
      "====> Epoch: 0 Average loss: 40.0647\n",
      "Train Epoch: 1 [58880/60000 (98%)]\tLoss: 27.237381\tRecon Loss: 17.927820\tKLD loss: 9.309561\n",
      "====> Epoch: 1 Average loss: 28.7761\n",
      "Train Epoch: 2 [58880/60000 (98%)]\tLoss: 27.293039\tRecon Loss: 18.394798\tKLD loss: 8.898241\n",
      "====> Epoch: 2 Average loss: 27.8043\n",
      "Train Epoch: 3 [58880/60000 (98%)]\tLoss: 26.751028\tRecon Loss: 17.512848\tKLD loss: 9.238180\n",
      "====> Epoch: 3 Average loss: 27.1883\n",
      "Train Epoch: 4 [58880/60000 (98%)]\tLoss: 26.086048\tRecon Loss: 17.563972\tKLD loss: 8.522075\n",
      "====> Epoch: 4 Average loss: 26.8169\n",
      "Train Epoch: 5 [58880/60000 (98%)]\tLoss: 25.960766\tRecon Loss: 16.943071\tKLD loss: 9.017695\n",
      "====> Epoch: 5 Average loss: 26.5430\n",
      "Train Epoch: 6 [58880/60000 (98%)]\tLoss: 25.514214\tRecon Loss: 16.706459\tKLD loss: 8.807755\n",
      "====> Epoch: 6 Average loss: 26.3756\n",
      "Train Epoch: 7 [58880/60000 (98%)]\tLoss: 25.683641\tRecon Loss: 17.257690\tKLD loss: 8.425951\n",
      "====> Epoch: 7 Average loss: 26.1808\n",
      "Train Epoch: 8 [58880/60000 (98%)]\tLoss: 25.417646\tRecon Loss: 16.065630\tKLD loss: 9.352016\n",
      "====> Epoch: 8 Average loss: 26.0801\n",
      "Train Epoch: 9 [58880/60000 (98%)]\tLoss: 25.629108\tRecon Loss: 16.759832\tKLD loss: 8.869275\n",
      "====> Epoch: 9 Average loss: 25.9421\n",
      "Train Epoch: 10 [58880/60000 (98%)]\tLoss: 25.433800\tRecon Loss: 17.122078\tKLD loss: 8.311722\n",
      "====> Epoch: 10 Average loss: 25.8822\n",
      "Train Epoch: 11 [58880/60000 (98%)]\tLoss: 25.641130\tRecon Loss: 16.565777\tKLD loss: 9.075354\n",
      "====> Epoch: 11 Average loss: 25.7480\n",
      "Train Epoch: 12 [58880/60000 (98%)]\tLoss: 24.724936\tRecon Loss: 15.958235\tKLD loss: 8.766701\n",
      "====> Epoch: 12 Average loss: 25.6662\n",
      "Train Epoch: 13 [58880/60000 (98%)]\tLoss: 24.901073\tRecon Loss: 16.737471\tKLD loss: 8.163603\n",
      "====> Epoch: 13 Average loss: 25.5805\n",
      "Train Epoch: 14 [58880/60000 (98%)]\tLoss: 25.018349\tRecon Loss: 16.494629\tKLD loss: 8.5237193\n",
      "====> Epoch: 14 Average loss: 25.5607\n",
      "Train Epoch: 15 [58880/60000 (98%)]\tLoss: 24.938667\tRecon Loss: 16.247765\tKLD loss: 8.690904\n",
      "====> Epoch: 15 Average loss: 25.4344\n",
      "Train Epoch: 16 [58880/60000 (98%)]\tLoss: 24.833128\tRecon Loss: 15.853712\tKLD loss: 8.979416\n",
      "====> Epoch: 16 Average loss: 25.3671\n",
      "Train Epoch: 17 [58880/60000 (98%)]\tLoss: 24.926977\tRecon Loss: 16.320946\tKLD loss: 8.606031\n",
      "====> Epoch: 17 Average loss: 25.2808\n",
      "Train Epoch: 18 [58880/60000 (98%)]\tLoss: 24.731052\tRecon Loss: 16.632387\tKLD loss: 8.098665\n",
      "====> Epoch: 18 Average loss: 25.2213\n",
      "Train Epoch: 19 [58880/60000 (98%)]\tLoss: 24.381783\tRecon Loss: 15.711153\tKLD loss: 8.670630\n",
      "====> Epoch: 19 Average loss: 25.1340\n",
      "Train Epoch: 20 [58880/60000 (98%)]\tLoss: 24.615715\tRecon Loss: 16.286882\tKLD loss: 8.328834\n",
      "====> Epoch: 20 Average loss: 25.0569\n",
      "Train Epoch: 21 [58880/60000 (98%)]\tLoss: 24.687977\tRecon Loss: 15.802784\tKLD loss: 8.885194\n",
      "====> Epoch: 21 Average loss: 25.0292\n",
      "Train Epoch: 22 [58880/60000 (98%)]\tLoss: 24.195753\tRecon Loss: 15.576393\tKLD loss: 8.619360\n",
      "====> Epoch: 22 Average loss: 24.9666\n",
      "Train Epoch: 23 [58880/60000 (98%)]\tLoss: 24.387943\tRecon Loss: 15.612982\tKLD loss: 8.774961\n",
      "====> Epoch: 23 Average loss: 24.9240\n",
      "Train Epoch: 24 [58880/60000 (98%)]\tLoss: 24.437258\tRecon Loss: 15.786879\tKLD loss: 8.650379\n",
      "====> Epoch: 24 Average loss: 24.8641\n",
      "Train Epoch: 25 [58880/60000 (98%)]\tLoss: 24.155716\tRecon Loss: 15.700166\tKLD loss: 8.455550\n",
      "====> Epoch: 25 Average loss: 24.8081\n",
      "Train Epoch: 26 [58880/60000 (98%)]\tLoss: 24.365124\tRecon Loss: 15.814835\tKLD loss: 8.550288\n",
      "====> Epoch: 26 Average loss: 24.7611\n",
      "Train Epoch: 27 [58880/60000 (98%)]\tLoss: 24.041965\tRecon Loss: 15.413418\tKLD loss: 8.628548\n",
      "====> Epoch: 27 Average loss: 24.7246\n",
      "Train Epoch: 28 [58880/60000 (98%)]\tLoss: 24.450813\tRecon Loss: 15.933232\tKLD loss: 8.517582\n",
      "====> Epoch: 28 Average loss: 24.6661\n",
      "Train Epoch: 29 [58880/60000 (98%)]\tLoss: 24.268764\tRecon Loss: 15.978275\tKLD loss: 8.290490\n",
      "====> Epoch: 29 Average loss: 24.6669\n",
      "Train Epoch: 30 [58880/60000 (98%)]\tLoss: 24.401215\tRecon Loss: 15.939552\tKLD loss: 8.461662\n",
      "====> Epoch: 30 Average loss: 24.5966\n",
      "Train Epoch: 31 [58880/60000 (98%)]\tLoss: 24.389717\tRecon Loss: 15.963397\tKLD loss: 8.426321\n",
      "====> Epoch: 31 Average loss: 24.5723\n",
      "Train Epoch: 32 [58880/60000 (98%)]\tLoss: 23.933571\tRecon Loss: 15.570698\tKLD loss: 8.362873\n",
      "====> Epoch: 32 Average loss: 24.5329\n",
      "Train Epoch: 33 [58880/60000 (98%)]\tLoss: 24.170294\tRecon Loss: 15.875628\tKLD loss: 8.294666\n",
      "====> Epoch: 33 Average loss: 24.5473\n",
      "Train Epoch: 34 [58880/60000 (98%)]\tLoss: 23.993309\tRecon Loss: 15.342180\tKLD loss: 8.651129\n",
      "====> Epoch: 34 Average loss: 24.4849\n",
      "Train Epoch: 35 [58880/60000 (98%)]\tLoss: 23.826607\tRecon Loss: 15.532331\tKLD loss: 8.294276\n",
      "====> Epoch: 35 Average loss: 24.4552\n",
      "Train Epoch: 36 [58880/60000 (98%)]\tLoss: 23.995386\tRecon Loss: 15.628757\tKLD loss: 8.366629\n",
      "====> Epoch: 36 Average loss: 24.4244\n",
      "Train Epoch: 37 [58880/60000 (98%)]\tLoss: 24.407600\tRecon Loss: 15.931798\tKLD loss: 8.475803\n",
      "====> Epoch: 37 Average loss: 24.4141\n",
      "Train Epoch: 38 [58880/60000 (98%)]\tLoss: 24.046648\tRecon Loss: 15.762907\tKLD loss: 8.283741\n",
      "====> Epoch: 38 Average loss: 24.3856\n",
      "Train Epoch: 39 [58880/60000 (98%)]\tLoss: 24.049164\tRecon Loss: 15.332917\tKLD loss: 8.716248\n",
      "====> Epoch: 39 Average loss: 24.3459\n",
      "Train Epoch: 40 [58880/60000 (98%)]\tLoss: 24.063885\tRecon Loss: 15.486575\tKLD loss: 8.577310\n",
      "====> Epoch: 40 Average loss: 24.3150\n",
      "Train Epoch: 41 [58880/60000 (98%)]\tLoss: 23.598059\tRecon Loss: 15.130459\tKLD loss: 8.467600\n",
      "====> Epoch: 41 Average loss: 24.3230\n",
      "Train Epoch: 42 [58880/60000 (98%)]\tLoss: 23.574280\tRecon Loss: 15.381940\tKLD loss: 8.192339\n",
      "====> Epoch: 42 Average loss: 24.2807\n",
      "Train Epoch: 43 [58880/60000 (98%)]\tLoss: 23.642895\tRecon Loss: 15.590340\tKLD loss: 8.052556\n",
      "====> Epoch: 43 Average loss: 24.2966\n",
      "Train Epoch: 44 [58880/60000 (98%)]\tLoss: 24.266968\tRecon Loss: 15.841123\tKLD loss: 8.425845\n",
      "====> Epoch: 44 Average loss: 24.2436\n",
      "Train Epoch: 45 [58880/60000 (98%)]\tLoss: 24.079258\tRecon Loss: 15.726893\tKLD loss: 8.352365\n",
      "====> Epoch: 45 Average loss: 24.2289\n",
      "Train Epoch: 46 [58880/60000 (98%)]\tLoss: 23.936312\tRecon Loss: 15.519836\tKLD loss: 8.416475\n",
      "====> Epoch: 46 Average loss: 24.2101\n",
      "Train Epoch: 47 [58880/60000 (98%)]\tLoss: 24.057615\tRecon Loss: 15.689283\tKLD loss: 8.368332\n",
      "====> Epoch: 47 Average loss: 24.1933\n",
      "Train Epoch: 48 [58880/60000 (98%)]\tLoss: 23.679054\tRecon Loss: 15.245411\tKLD loss: 8.433644\n",
      "====> Epoch: 48 Average loss: 24.1761\n",
      "Train Epoch: 49 [58880/60000 (98%)]\tLoss: 24.010427\tRecon Loss: 15.455973\tKLD loss: 8.554455\n",
      "====> Epoch: 49 Average loss: 24.1637\n"
     ]
    }
   ],
   "source": [
    "def train_vae(epochs):\n",
    "    cae.train()\n",
    "    train_loss = 0\n",
    "    recon_loss = 0\n",
    "    kld_loss = 0\n",
    "    for batch_idx, (x, _) in enumerate(trainloader):\n",
    "        if use_cuda: \n",
    "            x = x.cuda()\n",
    "        vae_optimizer.zero_grad()\n",
    "        recon_x, mu, logvar = vae(x)\n",
    "        loss, rloss, kloss = vae_loss(recon_x, x, mu, logvar)\n",
    "        loss.backward()\n",
    "        train_loss += loss.item()\n",
    "        recon_loss += rloss.item()\n",
    "        kld_loss += kloss.item()\n",
    "        vae_optimizer.step()\n",
    "        if batch_idx % 10 == 0:\n",
    "            print('Train Epoch: {} [{}/{} ({:.0f}%)]\\tLoss: {:.6f}\\tRecon Loss: {:.6f}\\tKLD loss: {:.6f}'.format(\n",
    "                    epoch, batch_idx * len(x), \n",
    "                    len(trainloader.dataset),\n",
    "                    100. * batch_idx / len(trainloader),\n",
    "                    loss.item() / len(x),\n",
    "                    rloss.item() / len(x),\n",
    "                    kloss.item() / len(x)),\n",
    "                end=\"\\r\", flush=True)\n",
    "\n",
    "    print('\\n====> Epoch: {} Average loss: {:.4f}'.format(\n",
    "          epoch, train_loss / len(trainloader.dataset)))\n",
    "    return train_loss / len(trainloader.dataset)\n",
    "\n",
    "vae_epoch_loss = []\n",
    "\n",
    "for epoch in range(epochs):\n",
    "    loss = train_vae(epoch)\n",
    "    vae_epoch_loss.append(loss)    \n"
   ]
  },
  {
   "cell_type": "code",
   "execution_count": 20,
   "metadata": {},
   "outputs": [
    {
     "data": {
      "text/plain": [
       "[<matplotlib.lines.Line2D at 0x14a0a30bec8>]"
      ]
     },
     "execution_count": 20,
     "metadata": {},
     "output_type": "execute_result"
    },
    {
     "data": {
      "image/png": "[encoded data removed]",
      "text/plain": [
       "<Figure size 432x288 with 1 Axes>"
      ]
     },
     "metadata": {
      "needs_background": "light"
     },
     "output_type": "display_data"
    }
   ],
   "source": [
    "plt.plot(vae_epoch_loss)"
   ]
  },
  {
   "cell_type": "code",
   "execution_count": null,
   "metadata": {},
   "outputs": [],
   "source": [
    "vae_epoch_loss"
   ]
  }
 ],
 "metadata": {
  "kernelspec": {
   "display_name": "Python 3",
   "language": "python",
   "name": "python3"
  },
  "language_info": {
   "codemirror_mode": {
    "name": "ipython",
    "version": 3
   },
   "file_extension": ".py",
   "mimetype": "text/x-python",
   "name": "python",
   "nbconvert_exporter": "python",
   "pygments_lexer": "ipython3",
   "version": "3.7.7"
  }
 },
 "nbformat": 4,
 "nbformat_minor": 4
}
